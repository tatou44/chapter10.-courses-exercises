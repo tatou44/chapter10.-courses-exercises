{
 "cells": [
  {
   "cell_type": "code",
   "execution_count": 1,
   "metadata": {},
   "outputs": [
    {
     "name": "stdout",
     "output_type": "stream",
     "text": [
      "10\n",
      "20\n"
     ]
    }
   ],
   "source": [
    "# lab01 Class Design:\n",
    "\n",
    "class Rectangle:\n",
    "    def __init__(self, h, w):\n",
    "        self.height = h\n",
    "        self.width= w\n",
    "\n",
    "# Create object using the defined class 'Rectangle':\n",
    "r = Rectangle(10, 20)\n",
    "\n",
    "# Printing the attributes values of 'height' and 'width' of the created instance 'r':\n",
    "print(r.height)\n",
    "print(r.width)\n",
    "        "
   ]
  },
  {
   "cell_type": "code",
   "execution_count": 10,
   "metadata": {},
   "outputs": [
    {
     "name": "stdout",
     "output_type": "stream",
     "text": [
      "10\n",
      "20\n",
      "10\n",
      "20\n",
      "10\n",
      "20\n",
      "changed:  5\n",
      "changed:  5\n",
      "5\n"
     ]
    }
   ],
   "source": [
    "# Lab 02, class rectangle with property:\n",
    "class Rectangle:\n",
    "    def __init__(self, h, w):\n",
    "        self._height = h   # Non public attribute (one single underscore) \n",
    "        self._width = w    # Non public attribute\n",
    "    \n",
    "    # defining the getters and the setters methods for both attribute 'height' and 'width':\n",
    "\n",
    "    # for height attribute:\n",
    "    def get_height(self):             # to get the hight attribut from outside the class\n",
    "        return self._height\n",
    "\n",
    "    def set_height(self, new_height):  # modifiying the height inside the class\n",
    "        self._height = new_height \n",
    "\n",
    "    # for width attribute:\n",
    "    def get_width(self):\n",
    "        return self._width\n",
    "\n",
    "    def set_width(self, new_width):\n",
    "        self._height = new_width     \n",
    "\n",
    "    # making getters and setters methods act as a propreties for height and width insead of methods:\n",
    "    # by using the function 'proprety()':\n",
    "\n",
    "    h = property(get_height, set_height)\n",
    "    w = property(get_width, set_width)\n",
    "\n",
    "# Creating object (or instance):\n",
    "r1 = Rectangle(10, 20)\n",
    "\n",
    "# printing initial values of the attribute h and w:\n",
    "# dirct access, using the name of the attribute even its protected:\n",
    "print(r1.h)\n",
    "print(r1.w)\n",
    "\n",
    "# indirect access, using getters methods:\n",
    "print(r1.get_height())\n",
    "print(r1.get_width())\n",
    "\n",
    "print(r1._height)   # still can be accessed\n",
    "print(r1._width)\n",
    "\n",
    "\n",
    "# changing values of the attribute:\n",
    "# dirctly using the name of the attribute:\n",
    "r1._height = 5\n",
    "print('changed: ', r1._height)\n",
    "print('changed: ', r1.get_height())\n",
    "\n",
    "r1.h = 5\n",
    "print(r1.h)\n"
   ]
  },
  {
   "cell_type": "code",
   "execution_count": 15,
   "metadata": {},
   "outputs": [
    {
     "name": "stdout",
     "output_type": "stream",
     "text": [
      "5\n",
      "<function addTwo at 0x000000000929D9D0>\n",
      "3\n"
     ]
    }
   ],
   "source": [
    "# Store a function in a variable:\n",
    "def addTwo(x, y):\n",
    "    return x + y\n",
    "\n",
    "sumTwo = addTwo\n",
    "print(addTwo(2, 3))\n",
    "print(sumTwo)\n",
    "print(sumTwo(1, 2))\n"
   ]
  },
  {
   "cell_type": "code",
   "execution_count": 18,
   "metadata": {},
   "outputs": [
    {
     "name": "stdout",
     "output_type": "stream",
     "text": [
      "30\n"
     ]
    }
   ],
   "source": [
    "# Pass afunction as a parameter / return a function:\n",
    "def flex_adder(x):\n",
    "    def inner_adder(y):\n",
    "        return x + y\n",
    "    return inner_adder\n",
    "\n",
    "# usage:\n",
    "myinner_adder10 = flex_adder(10)  # created a function myinner_adder10(y)=10+y\n",
    "\n",
    "#print(flex_adder(10))\n",
    "print(myinner_adder10(20)) # y = 20 -> myinner_adder10(y) = myinner_adder10(20) = 10 + 20 = 30        "
   ]
  },
  {
   "cell_type": "code",
   "execution_count": 28,
   "metadata": {},
   "outputs": [
    {
     "name": "stdout",
     "output_type": "stream",
     "text": [
      "362880\n",
      "elapsed time: 0.0\n",
      "362880\n"
     ]
    }
   ],
   "source": [
    "# added timer to factorial function:\n",
    "# define the factorial function:\n",
    "def factrorial(num):\n",
    "    fact = 1 # initalize to one \n",
    "\n",
    "    for i in range(1, num):\n",
    "        fact *= i   # fact = fact * i\n",
    "    return fact\n",
    "\n",
    "fact10 = factrorial(10)  # call the function with num = 10\n",
    "print(fact10)  # print the result\n",
    "\n",
    "# defining the decorator for the function factorial:\n",
    "import time\n",
    "def deco_fact(func):\n",
    "\n",
    "    def inner_wrapper(val):\n",
    "\n",
    "        begin = time.time()  # beginning time before function excution\n",
    "        ret = func(val)\n",
    "        end = time.time()    # ending time,after function done excution\n",
    "\n",
    "        print('elapsed time:', end - begin)\n",
    "\n",
    "        return ret\n",
    "\n",
    "    return inner_wrapper\n",
    "\n",
    "# usage: \n",
    "wrapped_func = deco_fact(factrorial)\n",
    "\n",
    "res = wrapped_func(10)\n",
    "print(res)\n"
   ]
  },
  {
   "cell_type": "code",
   "execution_count": 36,
   "metadata": {},
   "outputs": [
    {
     "name": "stdout",
     "output_type": "stream",
     "text": [
      "Elapsed time: 0.0e+00 seconds\n"
     ]
    }
   ],
   "source": [
    "# Lab 03:\n",
    "# defining the decorator for the function factorial:\n",
    "import time\n",
    "def deco_fact(func): # this is the decorator 'deco_fact' that takes a function as argument\n",
    "\n",
    "    def inner_wrapper(val):    \n",
    "\n",
    "        begin = time.time()  # beginning time before function excution\n",
    "        ret = func(val)\n",
    "        end = time.time()    # ending time,after function done excution\n",
    "        \n",
    "        elapsed_time = end - begin\n",
    "        print(f\"Elapsed time: {elapsed_time:.1e} seconds\")\n",
    "\n",
    "        return ret\n",
    "\n",
    "    return inner_wrapper  # the decorator return the wrapper function\n",
    "\n",
    "\n",
    "\n",
    "# define the factorial function just to compute the factorial:\n",
    "@deco_fact   # apply the decorator to the function 'factorial. (wrapped_func = deco_fact(func))\n",
    "def factrorial(num):\n",
    "    fact = 1 # initalize to one \n",
    "\n",
    "    for i in range(1, num + 1):\n",
    "        fact *= i   # fact = fact * i\n",
    "    return fact\n",
    "\n",
    "def main():\n",
    "    # run and test with factorial(10):  \n",
    "    factrorial(10)\n",
    "    \n",
    "main()  \n",
    "\n",
    "\n",
    "# explaination of how the 'elapsed_time' is printed just with calling the fatorial(10):\n",
    "# A function decorator is created , that takes a function as argument.\n",
    "# A simple function just to compute a factorial is created with the decorator applied on it\n",
    "# since there a decorator, so When calling the function factorial(10) ,\n",
    "# this function is passed as an argument to the 'deco_fact(func)'\n",
    "# The 'inner_wrapper' is replaced by the 'factrorial' function \n",
    "# then factial is executed inside the decorator\n",
    "# the ineer function is executed, and then the additional functionalitie is executed (to print the elapsed time).    \n",
    "\n",
    "\n",
    "\n"
   ]
  },
  {
   "cell_type": "code",
   "execution_count": 47,
   "metadata": {},
   "outputs": [
    {
     "name": "stdout",
     "output_type": "stream",
     "text": [
      "direct access: 10\n",
      "indirect access: 10\n",
      "accesssing the upodated value directly: -1\n",
      "accesssing the upodated value throught the getter method: -1\n",
      "\n",
      "width must not be negative.\n",
      "50\n"
     ]
    }
   ],
   "source": [
    "# Lab 04, class rectangle with @property decorator:\n",
    "class Rectangle:\n",
    "    def __init__(self, height, width):\n",
    "\n",
    "        # initializing the 'height' and 'width' attribute as a non public attribute:\n",
    "        self._height = height  \n",
    "        self._width = width\n",
    "    \n",
    "    # Defining getters and setters methods using @property decorator to have access to the non public attributes:\n",
    "    @property\n",
    "    def height(self):             # getter method for 'height'\n",
    "        return self._height\n",
    "    \n",
    "    @height.setter\n",
    "    def height(self, newHeight):  # stter method for 'height'\n",
    "\n",
    "        # adding validation to set a new value for the instance attribute:\n",
    "        if newHeight >= 0:\n",
    "            self._height = newHeight\n",
    "        else:\n",
    "            print('height must not be negative.')\n",
    "            \n",
    "\n",
    "\n",
    "    # same thing for the value of 'width' instance attribute:\n",
    "    @property\n",
    "    def width(self):              # getter method for 'width' instance attribute\n",
    "        return self._width\n",
    "    \n",
    "    @width.setter\n",
    "    def width(self, newWidth):    # setter method for 'width' instance attribute\n",
    "\n",
    "        # adding validation to set a new value for the instance attribute:\n",
    "        if newWidth >= 0:\n",
    "            self._width = newWidth\n",
    "        else:\n",
    "            print('width must not be negative.')\n",
    "                       \n",
    "\n",
    "\n",
    "# create instance of the class 'Rectangle':\n",
    "rec = Rectangle(10, 50)\n",
    "\n",
    "print('direct access:', rec._height) # direct access of the value of instance attribute\n",
    "\n",
    "print('indirect access:', rec.height)  # accessing the value of the height throught the getter method\n",
    "\n",
    "# modifying the value of height:\n",
    "\n",
    "# 1- directly:\n",
    "rec._height = -1     # updating the value\n",
    "print('accesssing the upodated value directly:', rec._height)   # this will print the actual height value of the instance attribute\n",
    "\n",
    "# 2- indirectly throught the the getter method (calling the getter method):\n",
    "print('accesssing the upodated value throught the getter method:', rec.height)\n",
    "\n",
    "print()\n",
    "\n",
    "# setting a new value for 'width' indirectly using the setter method:\n",
    "rec.width = -7       # setter method is called\n",
    "print(rec.width)     # getter method is called\n",
    "\n",
    "\n",
    "        "
   ]
  }
 ],
 "metadata": {
  "kernelspec": {
   "display_name": "Python 3.8.5 ('base')",
   "language": "python",
   "name": "python3"
  },
  "language_info": {
   "codemirror_mode": {
    "name": "ipython",
    "version": 3
   },
   "file_extension": ".py",
   "mimetype": "text/x-python",
   "name": "python",
   "nbconvert_exporter": "python",
   "pygments_lexer": "ipython3",
   "version": "3.8.5"
  },
  "orig_nbformat": 4,
  "vscode": {
   "interpreter": {
    "hash": "ad2bdc8ecc057115af97d19610ffacc2b4e99fae6737bb82f5d7fb13d2f2c186"
   }
  }
 },
 "nbformat": 4,
 "nbformat_minor": 2
}
